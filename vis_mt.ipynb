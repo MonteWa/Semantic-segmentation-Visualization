{
 "cells": [
  {
   "cell_type": "code",
   "execution_count": 1,
   "metadata": {
    "collapsed": true
   },
   "outputs": [],
   "source": [
    "# Run prediction and genertae pixelwise annotation for every pixels in the image using fully coonvolutional neural net\n",
    "# Output saved as label images, and label image overlay on the original image\n",
    "# 1) Make sure you you have trained model in logs_dir (See Train.py for creating trained model)\n",
    "# 2) Set the Image_Dir to the folder where the input image for prediction are located\n",
    "# 3) Set number of classes number in NUM_CLASSES\n",
    "# 4) Set Pred_Dir the folder where you want the output annotated images to be save\n",
    "# 5) Run script\n",
    "#--------------------------------------------------------------------------------------------------------------------\n",
    "import tensorflow as tf\n",
    "import numpy as np\n",
    "import scipy.misc as misc\n",
    "import sys\n",
    "from tensorflow.python.framework import ops\n",
    "from tensorflow.python.ops import gen_nn_ops"
   ]
  },
  {
   "cell_type": "code",
   "execution_count": 2,
   "metadata": {
    "collapsed": true
   },
   "outputs": [],
   "source": [
    "\n",
    "import BuildNetVgg16\n",
    "import TensorflowUtils\n",
    "import os\n",
    "import Data_Reader\n",
    "import OverrlayLabelOnImage as Overlay\n",
    "import CheckVGG16Model\n",
    "logs_dir= \"logs/\"# \"path to logs directory where trained model and information will be stored\"\n",
    "Image_Dir=\"Data_Zoo/test/\"# Test image folder\n",
    "w=0.6# weight of overlay on image\n",
    "Pred_Dir=\"Output_Prediction/\" # Library where the output prediction will be written\n",
    "model_path=\"Model_Zoo/vgg16.npy\"# \"Path to pretrained vgg16 model for encoder\"\n",
    "NameEnd=\"\" # Add this string to the ending of the file name optional\n",
    "NUM_CLASSES = 2 # Number of classes\n",
    "#-------------------------------------------------------------------------------------------------------------------------\n",
    "CheckVGG16Model.CheckVGG16(model_path)# Check if pretrained vgg16 model avialable and if not try to download it\n"
   ]
  },
  {
   "cell_type": "code",
   "execution_count": 3,
   "metadata": {
    "collapsed": true
   },
   "outputs": [],
   "source": [
    "################################################################################################################################################################################\n",
    "\n",
    "      # .........................Placeholders for input image and labels........................................................................\n",
    "keep_prob = tf.placeholder(tf.float32, name=\"keep_probabilty\")  # Dropout probability\n",
    "image = tf.placeholder(tf.float32, shape=[None, None, None, 3], name=\"input_image\")  # Input image batch first dimension image number second dimension width third dimension height 4 dimension RGB\n"
   ]
  },
  {
   "cell_type": "code",
   "execution_count": 4,
   "metadata": {
    "collapsed": true
   },
   "outputs": [
    {
     "name": "stdout",
     "output_type": "stream",
     "text": [
      "npy file loaded\n"
     ]
    }
   ],
   "source": [
    "\n",
    "    # -------------------------Build Net----------------------------------------------------------------------------------------------\n",
    "Net = BuildNetVgg16.BUILD_NET_VGG16(vgg16_npy_path=model_path)  # Create class instance for the net\n"
   ]
  },
  {
   "cell_type": "code",
   "execution_count": 5,
   "metadata": {
    "collapsed": true
   },
   "outputs": [
    {
     "name": "stdout",
     "output_type": "stream",
     "text": [
      "build model started\n"
     ]
    },
    {
     "name": "stdout",
     "output_type": "stream",
     "text": [
      "WARNING:tensorflow:From E:\\Github\\Fully-convolutional-neural-network-FCN-for-semantic-segmentation-Tensorflow-implementation-demo\\BuildNetVgg16.py:110: calling argmax (from tensorflow.python.ops.math_ops) with dimension is deprecated and will be removed in a future version.\nInstructions for updating:\nUse the `axis` argument instead\n"
     ]
    },
    {
     "name": "stdout",
     "output_type": "stream",
     "text": [
      "FCN model built\n"
     ]
    }
   ],
   "source": [
    "\n",
    "Net.build(image, NUM_CLASSES, keep_prob)  # Build net and load intial weights (weights before training)\n"
   ]
  },
  {
   "cell_type": "code",
   "execution_count": 6,
   "metadata": {
    "collapsed": true
   },
   "outputs": [],
   "source": [
    "\n",
    "    # -------------------------Data reader for validation/testing images-----------------------------------------------------------------------------------------------------------------------------\n",
    "ValidReader = Data_Reader.Data_Reader(Image_Dir,  BatchSize=1)\n"
   ]
  },
  {
   "cell_type": "code",
   "execution_count": 7,
   "metadata": {
    "collapsed": true
   },
   "outputs": [
    {
     "name": "stdout",
     "output_type": "stream",
     "text": [
      "Setting up Saver...\n"
     ]
    },
    {
     "name": "stdout",
     "output_type": "stream",
     "text": [
      "INFO:tensorflow:Restoring parameters from logs/model.ckpt-100000\n"
     ]
    },
    {
     "name": "stdout",
     "output_type": "stream",
     "text": [
      "Model restored...\n"
     ]
    }
   ],
   "source": [
    "\n",
    "    #-------------------------Load Trained model if you dont have trained model see: Train.py-----------------------------------------------------------------------------------------------------------------------------\n",
    "\n",
    "sess = tf.InteractiveSession() #Start Tensorflow session\n",
    "\n",
    "print(\"Setting up Saver...\")\n",
    "saver = tf.train.Saver()\n",
    "\n",
    "sess.run(tf.global_variables_initializer())\n",
    "ckpt = tf.train.get_checkpoint_state(logs_dir)\n",
    "if ckpt and ckpt.model_checkpoint_path: # if train model exist restore it\n",
    "    saver.restore(sess, ckpt.model_checkpoint_path)\n",
    "    print(\"Model restored...\")\n",
    "else:\n",
    "    print(\"ERROR NO TRAINED MODEL IN: \"+ckpt.model_checkpoint_path+\" See Train.py for creating train network \")\n",
    "    sys.exit()\n"
   ]
  },
  {
   "cell_type": "markdown",
   "metadata": {},
   "source": [
    "## --My Tests start--"
   ]
  },
  {
   "cell_type": "code",
   "execution_count": null,
   "metadata": {},
   "outputs": [],
   "source": [
    "import  imageio\n",
    "Images = imageio.imread('Data_Zoo/test/acl2.jpg')\n",
    "Images.shape\n",
    "Images = Images[:,:,0:3]\n",
    "Images.shape\n",
    "import matplotlib.pyplot as plt\n",
    "plt.imshow(Images)\n",
    "plt.show()\n",
    "Images = np.reshape(Images,[1,600,900,3])"
   ]
  },
  {
   "cell_type": "code",
   "execution_count": 15,
   "metadata": {},
   "outputs": [],
   "source": [
    "LabelPred = Net.Prob.eval( feed_dict={image: Images, keep_prob: 1.0})"
   ]
  },
  {
   "cell_type": "code",
   "execution_count": 16,
   "metadata": {},
   "outputs": [
    {
     "data": {
      "text/plain": [
       "(1, 600, 900, 2)"
      ]
     },
     "execution_count": 16,
     "metadata": {},
     "output_type": "execute_result"
    }
   ],
   "source": [
    "LabelPred.shape"
   ]
  },
  {
   "cell_type": "code",
   "execution_count": 17,
   "metadata": {},
   "outputs": [],
   "source": [
    "pre1 = LabelPred[0,:,:,0]\n",
    "pre2 = LabelPred[0,:,:,1]"
   ]
  },
  {
   "cell_type": "code",
   "execution_count": 18,
   "metadata": {},
   "outputs": [
    {
     "data": {
      "text/plain": [
       "(600, 900)"
      ]
     },
     "execution_count": 18,
     "metadata": {},
     "output_type": "execute_result"
    }
   ],
   "source": [
    "pre1.shape\n",
    "pre2.shape"
   ]
  },
  {
   "cell_type": "code",
   "execution_count": 19,
   "metadata": {},
   "outputs": [],
   "source": [
    "plt.figure(1)\n",
    "plt.imshow(pre1)\n",
    "plt.figure(2)\n",
    "plt.imshow(pre2)\n",
    "plt.show()"
   ]
  },
  {
   "cell_type": "code",
   "execution_count": 20,
   "metadata": {},
   "outputs": [],
   "source": [
    "finalpre = np.argmax(LabelPred,axis=3)"
   ]
  },
  {
   "cell_type": "code",
   "execution_count": 21,
   "metadata": {},
   "outputs": [
    {
     "data": {
      "text/plain": [
       "(1, 600, 900)"
      ]
     },
     "execution_count": 21,
     "metadata": {},
     "output_type": "execute_result"
    }
   ],
   "source": [
    "finalpre.shape"
   ]
  },
  {
   "cell_type": "code",
   "execution_count": 22,
   "metadata": {},
   "outputs": [],
   "source": [
    "finalpre = finalpre[0,:,:]\n",
    "plt.figure(3)\n",
    "plt.imshow(finalpre)\n",
    "plt.show()"
   ]
  },
  {
   "cell_type": "code",
   "execution_count": 23,
   "metadata": {},
   "outputs": [],
   "source": [
    "# start draw saliency map\n",
    "#get input\n",
    "inpt = Net.bgr\n",
    "#get output\n",
    "outp = Net.Prob"
   ]
  },
  {
   "cell_type": "code",
   "execution_count": 24,
   "metadata": {},
   "outputs": [],
   "source": [
    "background, object = tf.split(outp,num_or_size_splits=2,axis=3)"
   ]
  },
  {
   "cell_type": "markdown",
   "metadata": {},
   "source": [
    "# Start saliency map"
   ]
  },
  {
   "cell_type": "code",
   "execution_count": 25,
   "metadata": {},
   "outputs": [
    {
     "name": "stdout",
     "output_type": "stream",
     "text": [
      "1\n"
     ]
    },
    {
     "data": {
      "text/plain": [
       "(1, 600, 900, 3)"
      ]
     },
     "execution_count": 25,
     "metadata": {},
     "output_type": "execute_result"
    }
   ],
   "source": [
    "#get the max of output\n",
    "#maxmum = tf.reduce_max(outp,axis=1,keep_dims=True)\n",
    "#print(maxmum.shape)\n",
    "# get the saliency map\n",
    "saliency = tf.gradients(object,inpt)\n",
    "print(len(saliency))\n",
    "saliencymap = saliency[0]\n",
    "saliencymap = sess.run(saliencymap, feed_dict={image: Images, keep_prob: 1.0})\n",
    "saliencymap.shape\n"
   ]
  },
  {
   "cell_type": "code",
   "execution_count": 26,
   "metadata": {},
   "outputs": [],
   "source": [
    "saliencymap = np.reshape(saliencymap,[600,900,3])\n",
    "\n",
    "# convert BGR to RGB\n",
    "saliencymap_rgb = np.zeros([600,900,3])\n",
    "saliencymap_rgb[:,:,0] = saliencymap[:,:,2]\n",
    "saliencymap_rgb[:,:,1] = saliencymap[:,:,1]\n",
    "saliencymap_rgb[:,:,2] = saliencymap[:,:,0]\n",
    "saliencymap_abs = np.abs(saliencymap_rgb).max(axis=-1)\n",
    "\n",
    "plt.figure()\n",
    "plt.imshow(saliencymap_abs)\n",
    "plt.show()\n",
    "\n",
    "\n",
    "possaliency = (np.maximum(0, saliencymap_rgb) / saliencymap_rgb.max())\n",
    "plt.figure()\n",
    "plt.imshow(possaliency)\n",
    "plt.show()\n"
   ]
  },
  {
   "cell_type": "code",
   "execution_count": 27,
   "metadata": {},
   "outputs": [],
   "source": [
    ""
   ]
  },
  {
   "cell_type": "markdown",
   "metadata": {},
   "source": [
    "## --My tests end--"
   ]
  },
  {
   "cell_type": "markdown",
   "metadata": {},
   "source": [
    "# start guided back propagation"
   ]
  },
  {
   "cell_type": "code",
   "execution_count": 3,
   "metadata": {},
   "outputs": [],
   "source": [
    "import  imageio\n",
    "Images = imageio.imread('Data_Zoo/test/acl2.jpg')\n",
    "Images.shape\n",
    "Images = Images[:,:,0:3]\n",
    "Images.shape\n",
    "import matplotlib.pyplot as plt\n",
    "plt.imshow(Images)\n",
    "plt.show()\n",
    "Images = np.reshape(Images,[1,600,900,3])"
   ]
  },
  {
   "cell_type": "code",
   "execution_count": 4,
   "metadata": {},
   "outputs": [],
   "source": [
    "@tf.RegisterGradient(\"GuidedRelu\")\n",
    "def _GuidedReluGrad(op, grad):\n",
    "    return tf.where(0. < grad, gen_nn_ops._relu_grad(grad, op.outputs[0]), tf.zeros_like(grad))\n",
    "#修改为grad和op都大于零\n"
   ]
  },
  {
   "cell_type": "code",
   "execution_count": 5,
   "metadata": {
    "collapsed": true
   },
   "outputs": [],
   "source": [
    "\n",
    "\n",
    "g = tf.get_default_graph()\n",
    "with g.gradient_override_map({\"Relu\": \"GuidedRelu\"}):\n",
    "    #load the net\n",
    "    # .........................Placeholders for input image and labels........................................................................\n",
    "    keep_prob = tf.placeholder(tf.float32, name=\"keep_probabilty\")  # Dropout probability\n",
    "    image = tf.placeholder(tf.float32, shape=[None, None, None, 3], name=\"input_image\")  # Input image batch first dimension image number second dimension width third dimension height 4 dimension RGB\n",
    "    # -------------------------Build Net----------------------------------------------------------------------------------------------\n",
    "    Net = BuildNetVgg16.BUILD_NET_VGG16(vgg16_npy_path=model_path)  # Create class instance for the net\n",
    "    Net.build(image, NUM_CLASSES, keep_prob)    \n",
    "    \n",
    "    #get input\n",
    "    inpt = Net.bgr\n",
    "    #get output\n",
    "    outp = Net.Prob\n",
    "    background, object = tf.split(outp,num_or_size_splits=2,axis=3)\n",
    "    \n",
    "    guided_back = tf.gradients(background,inpt)\n",
    "    print(len(guided_back))\n",
    "    guided_back_map = guided_back[0]\n",
    "    sess1 = tf.Session()\n",
    "    sess1.run(tf.global_variables_initializer())\n",
    "    guided_back_map = sess1.run(guided_back_map, feed_dict={image: Images, keep_prob: 1.0})\n",
    "        \n",
    "print(guided_back_map.shape)\n"
   ]
  },
  {
   "cell_type": "code",
   "execution_count": 6,
   "metadata": {
    "collapsed": true
   },
   "outputs": [],
   "source": [
    "guided_back_map = np.reshape(guided_back_map,[600,900,3])\n",
    "\n",
    "# convert BGR to RGB\n",
    "guided_back_map_rgb = np.zeros([600,900,3])\n",
    "guided_back_map_rgb[:,:,0] = guided_back_map[:,:,2]\n",
    "guided_back_map_rgb[:,:,1] = guided_back_map[:,:,1]\n",
    "guided_back_map_rgb[:,:,2] = guided_back_map[:,:,0]\n",
    "guided_back_map_abs = np.abs(guided_back_map_rgb).max(axis=-1)\n",
    "plt.figure()\n",
    "plt.imshow(guided_back_map_abs)\n",
    "plt.show()\n",
    "pos_guided_back = (np.maximum(0, guided_back_map_rgb) / guided_back_map_rgb.max())\n",
    "plt.figure()\n",
    "plt.imshow(pos_guided_back)\n",
    "plt.show()\n"
   ]
  },
  {
   "cell_type": "code",
   "execution_count": null,
   "metadata": {},
   "outputs": [],
   "source": []
  },
  {
   "cell_type": "code",
   "execution_count": null,
   "metadata": {},
   "outputs": [],
   "source": []
  },
  {
   "cell_type": "code",
   "execution_count": null,
   "metadata": {},
   "outputs": [],
   "source": []
  },
  {
   "cell_type": "code",
   "execution_count": null,
   "metadata": {},
   "outputs": [],
   "source": []
  },
  {
   "cell_type": "markdown",
   "metadata": {},
   "source": [
    "# __End__"
   ]
  },
  {
   "cell_type": "code",
   "execution_count": 23,
   "metadata": {
    "collapsed": true
   },
   "outputs": [
    {
     "name": "stdout",
     "output_type": "stream",
     "text": [
      "Running Predictions:\nSaving output to:Output_Prediction/\n"
     ]
    }
   ],
   "source": [
    "\n",
    "#--------------------Create output directories for predicted label, one folder for each granulairy of label prediciton---------------------------------------------------------------------------------------------------------------------------------------------\n",
    "\n",
    "if not os.path.exists(Pred_Dir): os.makedirs(Pred_Dir)\n",
    "if not os.path.exists(Pred_Dir+\"/OverLay\"): os.makedirs(Pred_Dir+\"/OverLay\")\n",
    "if not os.path.exists(Pred_Dir + \"/Label\"): os.makedirs(Pred_Dir + \"/Label\")\n",
    "\n",
    "    \n",
    "print(\"Running Predictions:\")\n",
    "print(\"Saving output to:\" + Pred_Dir)\n"
   ]
  },
  {
   "cell_type": "code",
   "execution_count": 24,
   "metadata": {
    "collapsed": true
   },
   "outputs": [
    {
     "name": "stdout",
     "output_type": "stream",
     "text": [
      "Start Predicting 5 images\n0.0%\n"
     ]
    },
    {
     "name": "stdout",
     "output_type": "stream",
     "text": [
      "20.0%\n"
     ]
    },
    {
     "name": "stdout",
     "output_type": "stream",
     "text": [
      "40.0%\n"
     ]
    },
    {
     "name": "stdout",
     "output_type": "stream",
     "text": [
      "60.0%\n"
     ]
    },
    {
     "name": "stdout",
     "output_type": "stream",
     "text": [
      "80.0%\n"
     ]
    }
   ],
   "source": [
    "#----------------------Go over all images and predict semantic segmentation in various of classes-------------------------------------------------------------\n",
    "fim = 0\n",
    "print(\"Start Predicting \" + str(ValidReader.NumFiles) + \" images\")\n",
    "while (ValidReader.itr < ValidReader.NumFiles):\n",
    "    print(str(fim * 100.0 / ValidReader.NumFiles) + \"%\")\n",
    "    fim += 1\n",
    "        # ..................................Load image.......................................................................................\n",
    "    FileName=ValidReader.OrderedFiles[ValidReader.itr] #Get input image name\n",
    "    Images = ValidReader.ReadNextBatchClean()  # load testing image\n",
    "\n",
    "        # Predict annotation using net\n",
    "    LabelPred = sess.run(Net.Pred, feed_dict={image: Images, keep_prob: 1.0})\n",
    "    "
   ]
  },
  {
   "cell_type": "code",
   "execution_count": 11,
   "metadata": {},
   "outputs": [
    {
     "name": "stdout",
     "output_type": "stream",
     "text": [
      "(1, 600, 900)\n"
     ]
    },
    {
     "data": {
      "text/plain": [
       "numpy.ndarray"
      ]
     },
     "execution_count": 11,
     "metadata": {},
     "output_type": "execute_result"
    }
   ],
   "source": [
    "print(LabelPred.shape)\n",
    "type(LabelPred)"
   ]
  },
  {
   "cell_type": "code",
   "execution_count": 17,
   "metadata": {},
   "outputs": [
    {
     "name": "stdout",
     "output_type": "stream",
     "text": [
      "The history saving thread hit an unexpected error (OperationalError('unable to open database file',)).History will not be written to the database.\n"
     ]
    }
   ],
   "source": [
    "import matplotlib.pyplot as plt\n",
    "pred = np.reshape(LabelPred,[600,900])\n",
    "plt.imshow(pred)\n",
    "plt.show()"
   ]
  },
  {
   "cell_type": "code",
   "execution_count": 14,
   "metadata": {},
   "outputs": [
    {
     "data": {
      "text/plain": [
       "array([[0, 0, 0, ..., 0, 0, 0],\n       [0, 0, 0, ..., 0, 0, 0],\n       [0, 0, 0, ..., 0, 0, 0],\n       ..., \n       [1, 1, 1, ..., 0, 0, 0],\n       [1, 1, 1, ..., 0, 0, 0],\n       [1, 1, 1, ..., 0, 0, 0]])"
      ]
     },
     "execution_count": 14,
     "metadata": {},
     "output_type": "execute_result"
    }
   ],
   "source": [
    "pred[150:450,150:450]"
   ]
  },
  {
   "cell_type": "code",
   "execution_count": null,
   "metadata": {
    "collapsed": false
   },
   "outputs": [
    {
     "name": "stdout",
     "output_type": "stream",
     "text": [
      "Start Predicting 5 images\n0.0%\n"
     ]
    },
    {
     "name": "stdout",
     "output_type": "stream",
     "text": [
      "20.0%\n"
     ]
    },
    {
     "name": "stdout",
     "output_type": "stream",
     "text": [
      "40.0%\n"
     ]
    },
    {
     "name": "stdout",
     "output_type": "stream",
     "text": [
      "60.0%\n"
     ]
    },
    {
     "name": "stdout",
     "output_type": "stream",
     "text": [
      "80.0%\n"
     ]
    }
   ],
   "source": [
    "\n",
    "             #------------------------Save predicted labels overlay on images---------------------------------------------------------------------------------------------\n",
    "    misc.imsave(Pred_Dir + \"/OverLay/\"+ FileName+NameEnd  , Overlay.OverLayLabelOnImage(Images[0],LabelPred[0], w)) #Overlay label on image\n",
    "    misc.imsave(Pred_Dir + \"/Label/\" + FileName[:-4] + \".png\" + NameEnd, LabelPred[0].astype(np.uint8))\n"
   ]
  },
  {
   "cell_type": "code",
   "execution_count": null,
   "metadata": {
    "collapsed": true
   },
   "outputs": [],
   "source": [
    "##################################################################################################################################################\n",
    "print(\"Finished\")"
   ]
  }
 ],
 "metadata": {
  "kernelspec": {
   "display_name": "Python 2",
   "language": "python",
   "name": "python2"
  },
  "language_info": {
   "codemirror_mode": {
    "name": "ipython",
    "version": 2
   },
   "file_extension": ".py",
   "mimetype": "text/x-python",
   "name": "python",
   "nbconvert_exporter": "python",
   "pygments_lexer": "ipython2",
   "version": "2.7.6"
  }
 },
 "nbformat": 4,
 "nbformat_minor": 0
}
