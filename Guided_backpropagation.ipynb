{
 "cells": [
  {
   "cell_type": "code",
   "execution_count": 1,
   "metadata": {
    "collapsed": true
   },
   "outputs": [],
   "source": [
    "# Run prediction and genertae pixelwise annotation for every pixels in the image using fully coonvolutional neural net\n",
    "# Output saved as label images, and label image overlay on the original image\n",
    "# 1) Make sure you you have trained model in logs_dir (See Train.py for creating trained model)\n",
    "# 2) Set the Image_Dir to the folder where the input image for prediction are located\n",
    "# 3) Set number of classes number in NUM_CLASSES\n",
    "# 4) Set Pred_Dir the folder where you want the output annotated images to be save\n",
    "# 5) Run script\n",
    "#--------------------------------------------------------------------------------------------------------------------\n",
    "import tensorflow as tf\n",
    "import numpy as np\n",
    "import scipy.misc as misc\n",
    "import sys\n",
    "from tensorflow.python.framework import ops\n",
    "from tensorflow.python.ops import gen_nn_ops"
   ]
  },
  {
   "cell_type": "code",
   "execution_count": 2,
   "metadata": {},
   "outputs": [],
   "source": [
    "\n",
    "import BuildNetVgg16\n",
    "import TensorflowUtils\n",
    "import os\n",
    "import Data_Reader\n",
    "import OverrlayLabelOnImage as Overlay\n",
    "import CheckVGG16Model\n",
    "logs_dir= \"logs/\"# \"path to logs directory where trained model and information will be stored\"\n",
    "Image_Dir=\"Data_Zoo/test/\"# Test image folder\n",
    "w=0.6# weight of overlay on image\n",
    "Pred_Dir=\"Output_Prediction/\" # Library where the output prediction will be written\n",
    "model_path=\"Model_Zoo/vgg16.npy\"# \"Path to pretrained vgg16 model for encoder\"\n",
    "NameEnd=\"\" # Add this string to the ending of the file name optional\n",
    "NUM_CLASSES = 2 # Number of classes\n",
    "#-------------------------------------------------------------------------------------------------------------------------\n",
    "CheckVGG16Model.CheckVGG16(model_path)# Check if pretrained vgg16 model avialable and if not try to download it"
   ]
  },
  {
   "cell_type": "code",
   "execution_count": 3,
   "metadata": {},
   "outputs": [],
   "source": [
    "import  imageio\n",
    "Images = imageio.imread('Data_Zoo/test/acl2.jpg')\n",
    "Images.shape\n",
    "Images = Images[:,:,0:3]\n",
    "Images.shape\n",
    "import matplotlib.pyplot as plt\n",
    "plt.imshow(Images)\n",
    "plt.show()\n",
    "Images = np.reshape(Images,[1,600,900,3])"
   ]
  },
  {
   "cell_type": "code",
   "execution_count": 4,
   "metadata": {},
   "outputs": [],
   "source": [
    "@tf.RegisterGradient(\"GuidedRelu\")\n",
    "def _GuidedReluGrad(op, grad):\n",
    "    return tf.where(0. < grad, gen_nn_ops._relu_grad(grad, op.outputs[0]), tf.zeros_like(grad))\n",
    "#修改为grad和op都大于零"
   ]
  },
  {
   "cell_type": "code",
   "execution_count": 5,
   "metadata": {},
   "outputs": [
    {
     "name": "stdout",
     "output_type": "stream",
     "text": [
      "npy file loaded\nbuild model started\n"
     ]
    },
    {
     "name": "stdout",
     "output_type": "stream",
     "text": [
      "WARNING:tensorflow:From E:\\Github\\Fully-convolutional-neural-network-FCN-for-semantic-segmentation-Tensorflow-implementation-demo\\BuildNetVgg16.py:110: calling argmax (from tensorflow.python.ops.math_ops) with dimension is deprecated and will be removed in a future version.\nInstructions for updating:\nUse the `axis` argument instead\n"
     ]
    },
    {
     "name": "stdout",
     "output_type": "stream",
     "text": [
      "FCN model built\n"
     ]
    },
    {
     "name": "stdout",
     "output_type": "stream",
     "text": [
      "1\n"
     ]
    },
    {
     "name": "stdout",
     "output_type": "stream",
     "text": [
      "(1, 600, 900, 3)\n"
     ]
    }
   ],
   "source": [
    "g = tf.get_default_graph()\n",
    "with g.gradient_override_map({\"Relu\": \"GuidedRelu\"}):\n",
    "    #load the net\n",
    "    # .........................Placeholders for input image and labels........................................................................\n",
    "    keep_prob = tf.placeholder(tf.float32, name=\"keep_probabilty\")  # Dropout probability\n",
    "    image = tf.placeholder(tf.float32, shape=[None, None, None, 3], name=\"input_image\")  # Input image batch first dimension image number second dimension width third dimension height 4 dimension RGB\n",
    "    # -------------------------Build Net----------------------------------------------------------------------------------------------\n",
    "    Net = BuildNetVgg16.BUILD_NET_VGG16(vgg16_npy_path=model_path)  # Create class instance for the net\n",
    "    Net.build(image, NUM_CLASSES, keep_prob)    \n",
    "    \n",
    "    #get input\n",
    "    inpt = Net.bgr\n",
    "    #get output\n",
    "    outp = Net.Prob\n",
    "    background, object = tf.split(outp,num_or_size_splits=2,axis=3)\n",
    "    \n",
    "    guided_back = tf.gradients(background,inpt)#决定可视化背景还是物体\n",
    "    print(len(guided_back))\n",
    "    guided_back_map = guided_back[0]\n",
    "    sess1 = tf.Session()\n",
    "    sess1.run(tf.global_variables_initializer())\n",
    "    guided_back_map = sess1.run(guided_back_map, feed_dict={image: Images, keep_prob: 1.0})\n",
    "        \n",
    "print(guided_back_map.shape)"
   ]
  },
  {
   "cell_type": "code",
   "execution_count": 6,
   "metadata": {},
   "outputs": [],
   "source": [
    "guided_back_map = np.reshape(guided_back_map,[600,900,3])\n",
    "\n",
    "# convert BGR to RGB\n",
    "guided_back_map_rgb = np.zeros([600,900,3])\n",
    "guided_back_map_rgb[:,:,0] = guided_back_map[:,:,2]\n",
    "guided_back_map_rgb[:,:,1] = guided_back_map[:,:,1]\n",
    "guided_back_map_rgb[:,:,2] = guided_back_map[:,:,0]\n",
    "guided_back_map_abs = np.abs(guided_back_map_rgb).max(axis=-1)\n",
    "plt.figure()\n",
    "plt.imshow(guided_back_map_abs)\n",
    "plt.show()\n",
    "pos_guided_back = (np.maximum(0, guided_back_map_rgb) / guided_back_map_rgb.max())\n",
    "plt.figure()\n",
    "plt.imshow(pos_guided_back)\n",
    "plt.show()\n"
   ]
  },
  {
   "cell_type": "code",
   "execution_count": null,
   "metadata": {},
   "outputs": [],
   "source": []
  },
  {
   "cell_type": "code",
   "execution_count": null,
   "metadata": {},
   "outputs": [],
   "source": []
  },
  {
   "cell_type": "code",
   "execution_count": null,
   "metadata": {},
   "outputs": [],
   "source": []
  }
 ],
 "metadata": {
  "kernelspec": {
   "display_name": "Python 2",
   "language": "python",
   "name": "python2"
  },
  "language_info": {
   "codemirror_mode": {
    "name": "ipython",
    "version": 2
   },
   "file_extension": ".py",
   "mimetype": "text/x-python",
   "name": "python",
   "nbconvert_exporter": "python",
   "pygments_lexer": "ipython2",
   "version": "2.7.6"
  }
 },
 "nbformat": 4,
 "nbformat_minor": 0
}
